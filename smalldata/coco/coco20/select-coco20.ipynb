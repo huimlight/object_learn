{
 "cells": [
  {
   "cell_type": "code",
   "execution_count": 1,
   "metadata": {},
   "outputs": [],
   "source": [
    "#从coco80个类中选出voc中的20个类"
   ]
  },
  {
   "cell_type": "code",
   "execution_count": null,
   "metadata": {},
   "outputs": [],
   "source": [
    "import json"
   ]
  },
  {
   "cell_type": "code",
   "execution_count": 2,
   "metadata": {},
   "outputs": [],
   "source": [
    "#读取coco提供的标注json\n",
    "ana_coco = 'instances_train2017.json'\n",
    "with open(ana_coco) as f1:\n",
    "    coco_annotion = json.load(f1)"
   ]
  },
  {
   "cell_type": "code",
   "execution_count": 3,
   "metadata": {},
   "outputs": [],
   "source": [
    "#读取将voc格式转化为coco格式的json文件\n",
    "#目的是主要是用coco格式中的voc_annotion['categories']\n",
    "ana_voc = 'voc07_trainval.json'\n",
    "with open(ana_voc) as f2:\n",
    "    voc_annotion = json.load(f2)"
   ]
  },
  {
   "cell_type": "code",
   "execution_count": 4,
   "metadata": {},
   "outputs": [
    {
     "data": {
      "text/plain": [
       "dict_keys(['info', 'licenses', 'images', 'annotations', 'categories'])"
      ]
     },
     "execution_count": 4,
     "metadata": {},
     "output_type": "execute_result"
    }
   ],
   "source": [
    "coco_annotion.keys()"
   ]
  },
  {
   "cell_type": "code",
   "execution_count": 5,
   "metadata": {},
   "outputs": [
    {
     "data": {
      "text/plain": [
       "dict_keys(['images', 'type', 'categories', 'annotations'])"
      ]
     },
     "execution_count": 5,
     "metadata": {},
     "output_type": "execute_result"
    }
   ],
   "source": [
    "voc_annotion.keys()"
   ]
  },
  {
   "cell_type": "code",
   "execution_count": 10,
   "metadata": {},
   "outputs": [],
   "source": [
    "#voc中的类别 在 coco80的id的索引\n",
    "coco_id = [5, 2, 16, 9, 44, 6, 3, 17, 62, 21, 67, 18, 19, 4, 1, 64, 20, 63, 7, 72]"
   ]
  },
  {
   "cell_type": "code",
   "execution_count": null,
   "metadata": {},
   "outputs": [],
   "source": [
    "coco20_ann = []\n",
    "coco20_imageinfo = []\n",
    "\n",
    "#遍历标注，如果在标注的id是 在coco_id里就加入标注的list,加入list前将 标注里的类别的id修改为voc中的\n",
    "for item in coco_annotion['annotations']:\n",
    "    if item['category_id'] in coco_id:\n",
    "        item['category_id'] = coco_id.index(item['category_id'])\n",
    "        coco20_ann.append(item)\n",
    "        \n",
    "        #查找这个标注在哪一张图片里，如果这张图片没有保存，就存入图片信息的list\n",
    "        for image in coco_annotion['images']:\n",
    "            if (item['image_id'] == image['id']) and (image not in coco20_imageinfo):\n",
    "                coco20_imageinfo.append(image)"
   ]
  },
  {
   "cell_type": "code",
   "execution_count": null,
   "metadata": {},
   "outputs": [],
   "source": []
  },
  {
   "cell_type": "code",
   "execution_count": null,
   "metadata": {},
   "outputs": [],
   "source": [
    "coco20_json = {}\n",
    "coco20_json['images'] = coco20_imageinfo\n",
    "coco20_json['annotations'] = coco20_ann\n",
    "coco20_json['categories'] = voc_annotion['categories']"
   ]
  },
  {
   "cell_type": "code",
   "execution_count": null,
   "metadata": {},
   "outputs": [],
   "source": []
  },
  {
   "cell_type": "code",
   "execution_count": 6,
   "metadata": {},
   "outputs": [],
   "source": [
    "with open (\"coco20.json\",\"w\") as f4:\n",
    "    json.dump(annotion,f4)"
   ]
  },
  {
   "cell_type": "code",
   "execution_count": null,
   "metadata": {},
   "outputs": [],
   "source": []
  },
  {
   "cell_type": "code",
   "execution_count": null,
   "metadata": {},
   "outputs": [],
   "source": []
  },
  {
   "cell_type": "code",
   "execution_count": null,
   "metadata": {},
   "outputs": [],
   "source": []
  },
  {
   "cell_type": "code",
   "execution_count": 8,
   "metadata": {},
   "outputs": [],
   "source": [
    "#修改mmdetection中的classes\n",
    "('aeroplane', 'bicycle', 'bird', 'boat', 'bottle', 'bus', 'car', 'cat', 'chair', 'cow', 'diningtable', 'dog', 'horse', 'motorbike', 'person', 'pottedplant', 'sheep', 'sofa', 'train', 'tvmonitor')"
   ]
  },
  {
   "cell_type": "code",
   "execution_count": null,
   "metadata": {},
   "outputs": [],
   "source": [
    "[{'supercategory': 'none', 'id': 0, 'name': 'aeroplane'}, 5 \n",
    " {'supercategory': 'none', 'id': 1, 'name': 'bicycle'}, 2\n",
    " {'supercategory': 'none', 'id': 2, 'name': 'bird'}, 16\n",
    " {'supercategory': 'none', 'id': 3, 'name': 'boat'}, 9\n",
    " {'supercategory': 'none', 'id': 4, 'name': 'bottle'}, 44\n",
    " {'supercategory': 'none', 'id': 5, 'name': 'bus'}, 6\n",
    " {'supercategory': 'none', 'id': 6, 'name': 'car'}, 3 \n",
    " {'supercategory': 'none', 'id': 7, 'name': 'cat'}, 17 \n",
    " {'supercategory': 'none', 'id': 8, 'name': 'chair'}, 62\n",
    " {'supercategory': 'none', 'id': 9, 'name': 'cow'}, 21\n",
    " {'supercategory': 'none', 'id': 10, 'name': 'diningtable'}, 67\n",
    " {'supercategory': 'none', 'id': 11, 'name': 'dog'},  18\n",
    " {'supercategory': 'none', 'id': 12, 'name': 'horse'}, 19 \n",
    " {'supercategory': 'none', 'id': 13, 'name': 'motorbike'}, 4 \n",
    " {'supercategory': 'none', 'id': 14, 'name': 'person'}, 1\n",
    " {'supercategory': 'none', 'id': 15, 'name': 'pottedplant'}, 64\n",
    " {'supercategory': 'none', 'id': 16, 'name': 'sheep'}, 20\n",
    " {'supercategory': 'none', 'id': 17, 'name': 'sofa'}, 63\n",
    " {'supercategory': 'none', 'id': 18, 'name': 'train'}, 7 \n",
    " {'supercategory': 'none', 'id': 19, 'name': 'tvmonitor'}] 72"
   ]
  }
 ],
 "metadata": {
  "kernelspec": {
   "display_name": "Python 3",
   "language": "python",
   "name": "python3"
  },
  "language_info": {
   "codemirror_mode": {
    "name": "ipython",
    "version": 3
   },
   "file_extension": ".py",
   "mimetype": "text/x-python",
   "name": "python",
   "nbconvert_exporter": "python",
   "pygments_lexer": "ipython3",
   "version": "3.6.9"
  }
 },
 "nbformat": 4,
 "nbformat_minor": 4
}
